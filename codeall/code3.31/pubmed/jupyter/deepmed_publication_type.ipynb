{
 "cells": [
  {
   "cell_type": "code",
   "execution_count": 1,
   "metadata": {},
   "outputs": [
    {
     "name": "stdout",
     "output_type": "stream",
     "text": [
      "/home/ymz/src/pipelines/components/spider/pubmed\n"
     ]
    }
   ],
   "source": [
    "import os\n",
    "import sys\n",
    "print(os.path.abspath('../../'))\n",
    "sys.path.append(os.path.abspath('../../'))"
   ]
  },
  {
   "cell_type": "code",
   "execution_count": 2,
   "metadata": {},
   "outputs": [],
   "source": [
    "import os\n",
    "import sys\n",
    "from pubmed.parser.pubmed_xml_parser import PubmedXmlParser\n",
    "\n",
    "def add_publication_types_to_dict(publication_types, type_dict):\n",
    "   for publication_type in publication_types:\n",
    "       key = publication_type['text']\n",
    "       count = type_dict.get(key, 0)\n",
    "       type_dict[key] = count + 1\n",
    "\n",
    "dir_root = '/home/ymz/downloads/pubmed'\n",
    "publication_types_info = {}\n",
    "file_names = os.listdir(dir_root)\n",
    "file_names.sort()\n",
    "for file_name in file_names:\n",
    "   if os.path.isfile(os.path.join(dir_root, file_name)) and 'xml.gz' in file_name:\n",
    "      result_path = os.path.join(dir_root, file_name)\n",
    "      dict_out = PubmedXmlParser.parse_pubmed_xml_gz(result_path)\n",
    "      articles = dict_out['articles']\n",
    "      for article in articles:\n",
    "         publication_types = PubmedXmlParser.parse_publication_types(article)\n",
    "         add_publication_types_to_dict(publication_types, publication_types_info)\n"
   ]
  },
  {
   "cell_type": "code",
   "execution_count": 12,
   "metadata": {},
   "outputs": [],
   "source": [
    "list(publication_types_info)\n",
    "res = []\n",
    "for key, val in publication_types_info.items():\n",
    "    res.append({\"type\": key, \"count\": val})\n",
    "import pandas as pd\n",
    "data = pd.DataFrame(res)\n",
    "new_data = data.sort_values(by='count', ascending=False)\n",
    "data.to_csv('./publication_types.tsv', sep='\\t', index=False)\n",
    "new_data.to_csv('./publication_types_sorted.tsv', sep='\\t', index=False)"
   ]
  }
 ],
 "metadata": {
  "interpreter": {
   "hash": "c21af91f92736a3103292a509ab865e83f8292ef166c2bf3fa3495615ec24279"
  },
  "kernelspec": {
   "display_name": "Python 3.9.7 ('mlpipeline')",
   "language": "python",
   "name": "python3"
  },
  "language_info": {
   "codemirror_mode": {
    "name": "ipython",
    "version": 3
   },
   "file_extension": ".py",
   "mimetype": "text/x-python",
   "name": "python",
   "nbconvert_exporter": "python",
   "pygments_lexer": "ipython3",
   "version": "3.9.7"
  },
  "orig_nbformat": 4
 },
 "nbformat": 4,
 "nbformat_minor": 2
}
